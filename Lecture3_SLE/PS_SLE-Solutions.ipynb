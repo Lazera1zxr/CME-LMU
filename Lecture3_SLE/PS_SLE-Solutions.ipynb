{
 "cells": [
  {
   "cell_type": "markdown",
   "metadata": {},
   "source": [
    "# Computational Methods in Economics\n",
    "\n",
    "## Problem Set - Solving Systems of Linear Equations: Suggested Solutions"
   ]
  },
  {
   "cell_type": "code",
   "execution_count": 2,
   "metadata": {
    "collapsed": false
   },
   "outputs": [
    {
     "name": "stdout",
     "output_type": "stream",
     "text": [
      "Last update: 2018-11-15 11:11:46.215912\n"
     ]
    }
   ],
   "source": [
    "# Author: Alex Schmitt (schmitt@ifo.de), Christina Littlejohn (littlejohn@ifo.de)\n",
    "\n",
    "import datetime\n",
    "print('Last update: ' + str(datetime.datetime.today()))"
   ]
  },
  {
   "cell_type": "markdown",
   "metadata": {},
   "source": [
    "### Preliminaries\n",
    "\n",
    "#### Import Modules"
   ]
  },
  {
   "cell_type": "code",
   "execution_count": 3,
   "metadata": {
    "collapsed": true
   },
   "outputs": [],
   "source": [
    "import numpy as np\n",
    "import scipy.optimize\n",
    "import scipy.linalg\n",
    "\n",
    "import matplotlib.pyplot as plt\n",
    "%matplotlib inline\n",
    "import seaborn\n",
    "\n",
    "# import sys\n",
    "from importlib import reload"
   ]
  },
  {
   "cell_type": "markdown",
   "metadata": {},
   "source": [
    "## Question 1 (A)\n",
    "\n",
    "(a) Find the largest positive integer $n$ such that $2^n - 1$ is a DP number.\n",
    "\n",
    "(b) Show that the distance between two adjacent DP numbers $y_1$ and $y_2$ with $y_1 < y_2$ that, \n",
    "\n",
    "\\begin{equation}\n",
    "   | y_2 - y_1 | = \\epsilon_{DP} 2^{e(y_1) - 1023}. \n",
    "\\end{equation}\n",
    "\n",
    "Hint: Consider two cases for $e$ and $f$ that make two DP numbers adjacent.\n",
    "\n",
    "(c) Show that the relativ absolute difference between a real number $z$ and the DP number closest to it, $z_{DP}$, is bounded above by half machine epsilon, i.e.\n",
    "\n",
    "\\begin{equation}\n",
    "   \\left| \\frac{z_{DP} - z}{z} \\right| \\le \\frac{1}{2} \\epsilon_{DP}.\n",
    "\\end{equation}\n",
    "\n",
    "Hint: Use the result from (b)."
   ]
  },
  {
   "cell_type": "markdown",
   "metadata": {},
   "source": [
    "## Question 2 (N)\n",
    "\n",
    "Write a function **backward_sub** that implements the backward-substitution algorithm to solve an upper triangular system of equations in Python. As a first step, derive an expression for $x_i$, analogous to the case of forward-substitution in the lecture."
   ]
  },
  {
   "cell_type": "code",
   "execution_count": 4,
   "metadata": {
    "collapsed": true
   },
   "outputs": [],
   "source": [
    "def backward_sub(A, b):\n",
    "    \"\"\"\n",
    "    Implements the backward-substitution algorithm to solve an upper triangular system of equations\n",
    "    \n",
    "    For doctest:\n",
    "    \n",
    "    >>> backward_sub( np.array([[1, 1], [0, 1]]), np.array([2, 1])  )\n",
    "    array([ 1.,  1.])\n",
    "    \n",
    "    >>> backward_sub( np.array([[1, 2, 3], [0, 5, 7], [0, 0, 9]]), np.array([1, 2, 3])  )\n",
    "    array([ 0.13333333, -0.06666667,  0.33333333])\n",
    "    \n",
    "     \n",
    "    \"\"\"\n",
    "    ## check input: is A a square matrix?\n",
    "    n, m = A.shape\n",
    "    assert n == m, \"A must be a square matrix\"\n",
    "    \n",
    "    ## initialize solution vector\n",
    "    x = np.zeros(n)\n",
    "    \n",
    "    ## fill solution vector using a for loop\n",
    "    for i in range(n):\n",
    "        \n",
    "        ## compute sum on numerator of recursive rule\n",
    "        summ = 0\n",
    "        for j in range(i):\n",
    "            summ += A[(n-1)-i, (n-1)-j] * x[(n-1)-j]\n",
    "        \n",
    "        ## use rule; NB: start at the last element in x!\n",
    "        x[(n-1)-i] = (b[(n-1)-i] - summ) / A[(n-1)-i, (n-1)-i]\n",
    "        \n",
    "    return x        "
   ]
  },
  {
   "cell_type": "code",
   "execution_count": 5,
   "metadata": {
    "collapsed": true
   },
   "outputs": [],
   "source": [
    "## alternative: use vector multiplication for sum (instead of inner loop)\n",
    "\n",
    "def backward_sub2(A, b):\n",
    "    \"\"\"\n",
    "    Implements the backward-substitution algorithm to solve an upper triangular system of equations\n",
    "    \n",
    "    For doctest:\n",
    "    \n",
    "    >>> backward_sub( np.array([[1, 1], [0, 1]]), np.array([2, 1])  )\n",
    "    array([ 1.,  1.])\n",
    "    \n",
    "    >>> backward_sub( np.array([[1, 2, 3], [0, 5, 7], [0, 0, 9]]), np.array([1, 2, 3])  )\n",
    "    array([ 0.13333333, -0.06666667,  0.33333333])\n",
    "    \n",
    "    \n",
    "    \"\"\"\n",
    "    ## check input: is A a square matrix?\n",
    "    n, m = A.shape\n",
    "    assert n == m, \"A must be a square matrix\"\n",
    "    \n",
    "    ## initialize solution vector\n",
    "    x = np.zeros(n)\n",
    "    \n",
    "    ## fill solution vector using a for loop\n",
    "    for i in range(n):\n",
    "        \n",
    "        ## compute sum on numerator of recursive rule \n",
    "        summ = A[(n-1)-i, (n-1) - (i-1):] @ x[(n-1) - (i-1):]\n",
    "        \n",
    "        ## use rule; NB: start at the last element in x!\n",
    "        x[(n-1)-i] = (b[(n-1)-i] - summ) / A[(n-1)-i, (n-1)-i]\n",
    "        \n",
    "    return x\n",
    "        "
   ]
  },
  {
   "cell_type": "code",
   "execution_count": 6,
   "metadata": {
    "collapsed": true
   },
   "outputs": [],
   "source": [
    "## test case\n",
    "A = np.array([[1, 2, 3],\n",
    "              [0, 5, 7],\n",
    "              [0, 0, 9]])\n",
    "\n",
    "b = np.array([1, 2, 3])"
   ]
  },
  {
   "cell_type": "code",
   "execution_count": 7,
   "metadata": {
    "collapsed": false
   },
   "outputs": [
    {
     "data": {
      "text/plain": [
       "array([ 0.13333333, -0.06666667,  0.33333333])"
      ]
     },
     "execution_count": 7,
     "metadata": {},
     "output_type": "execute_result"
    }
   ],
   "source": [
    "backward_sub(A, b)"
   ]
  },
  {
   "cell_type": "code",
   "execution_count": 8,
   "metadata": {
    "collapsed": false
   },
   "outputs": [
    {
     "data": {
      "text/plain": [
       "array([ 0.13333333, -0.06666667,  0.33333333])"
      ]
     },
     "execution_count": 8,
     "metadata": {},
     "output_type": "execute_result"
    }
   ],
   "source": [
    "backward_sub2(A, b)"
   ]
  },
  {
   "cell_type": "code",
   "execution_count": 9,
   "metadata": {
    "collapsed": false
   },
   "outputs": [
    {
     "data": {
      "text/plain": [
       "array([ 0.13333333, -0.06666667,  0.33333333])"
      ]
     },
     "execution_count": 9,
     "metadata": {},
     "output_type": "execute_result"
    }
   ],
   "source": [
    "## check our result\n",
    "np.linalg.solve(A, b)"
   ]
  },
  {
   "cell_type": "code",
   "execution_count": 10,
   "metadata": {
    "collapsed": false
   },
   "outputs": [
    {
     "data": {
      "text/plain": [
       "TestResults(failed=0, attempted=4)"
      ]
     },
     "execution_count": 10,
     "metadata": {},
     "output_type": "execute_result"
    }
   ],
   "source": [
    "## Alternative: use doctest\n",
    "import doctest\n",
    "doctest.testmod()"
   ]
  },
  {
   "cell_type": "markdown",
   "metadata": {},
   "source": [
    "## Question 3 (N)\n",
    "\n",
    "Solve Exercise 2.2 in Miranda and Fackler. That is, find the solution to a SLE with"
   ]
  },
  {
   "cell_type": "code",
   "execution_count": 11,
   "metadata": {
    "collapsed": true
   },
   "outputs": [],
   "source": [
    "A = np.array([[54, 14, -11, 2], \n",
    "              [14, 50, -4, 29],\n",
    "              [-11, -4, 55, 22],\n",
    "              [2, 29, 22, 95]]\n",
    "            )\n",
    "b = np.array([1, 1, 1, 1])"
   ]
  },
  {
   "cell_type": "markdown",
   "metadata": {},
   "source": [
    "numerically, using\n",
    "a) LU factorization,\n",
    "b) Gauss-Jacobi,\n",
    "c) Gauss-Seidel.\n",
    "\n",
    "For LU factorization, do not use the **linalg.solve** functions in Numpy or Scipy. However, you can use Scipy's **linalg.lu** function."
   ]
  },
  {
   "cell_type": "markdown",
   "metadata": {},
   "source": [
    "#### (a) LU Factorization"
   ]
  },
  {
   "cell_type": "code",
   "execution_count": 12,
   "metadata": {
    "collapsed": true
   },
   "outputs": [],
   "source": [
    "def forward_sub(A, b):\n",
    "    \"\"\"\n",
    "    Implements the forward-substitution algorithm to solve a lower triangular system of equations\n",
    "    \"\"\"\n",
    "    n, m = A.shape\n",
    "    \n",
    "    assert n == m, \"A must be a square matrix\"\n",
    "    \n",
    "    x = np.zeros(n)\n",
    "    \n",
    "    for i in range(n):\n",
    "        \n",
    "        summ = 0\n",
    "        for j in range(i):\n",
    "            summ += A[i, j] * x[j]\n",
    "        \n",
    "        x[i] = (b[i] - summ) / A[i, i]   \n",
    "    \n",
    "    return x"
   ]
  },
  {
   "cell_type": "code",
   "execution_count": 13,
   "metadata": {
    "collapsed": false
   },
   "outputs": [
    {
     "name": "stdout",
     "output_type": "stream",
     "text": [
      "[ 0.01893441  0.01680508  0.02335523 -0.00041085]\n",
      "1 loop, best of 1: 131 ms per loop\n"
     ]
    }
   ],
   "source": [
    "%%timeit -n1 -r1\n",
    "P, L, U = scipy.linalg.lu(A)\n",
    "y = forward_sub(L, b)\n",
    "x = backward_sub(U, y)\n",
    "print(x)\n"
   ]
  },
  {
   "cell_type": "markdown",
   "metadata": {},
   "source": [
    "#### (b) Gauss-Jacobi"
   ]
  },
  {
   "cell_type": "code",
   "execution_count": 14,
   "metadata": {
    "collapsed": true
   },
   "outputs": [],
   "source": [
    "def gauss_jacobi(A, b, x0):\n",
    "    \"\"\" \n",
    "    Implements the Gauss-Seidel method with a over-relaxation parameter\n",
    "    \"\"\"\n",
    "    eps = 1\n",
    "    tol = 1e-8\n",
    "    it = 0\n",
    "    maxit = 100\n",
    "\n",
    "    x = x0\n",
    "    Q = np.diag(np.diag(A))\n",
    "    Q_inv = np.linalg.inv(Q)\n",
    "    \n",
    "    while eps > tol and it < maxit:\n",
    "        it += 1 \n",
    "        x_new = Q_inv @ b + ( np.eye(len(b)) - Q_inv @ A) @ x\n",
    "        eps = np.linalg.norm(x_new - x)\n",
    "        x = x_new\n",
    "        \n",
    "        \n",
    "    return x, it "
   ]
  },
  {
   "cell_type": "code",
   "execution_count": 15,
   "metadata": {
    "collapsed": false
   },
   "outputs": [
    {
     "name": "stdout",
     "output_type": "stream",
     "text": [
      "Number of iterations = 25\n",
      "[ 0.01893441  0.01680507  0.02335523 -0.00041085]\n",
      "1 loop, best of 1: 375 ms per loop\n"
     ]
    }
   ],
   "source": [
    "%%timeit -n1 -r1\n",
    "x0 = np.zeros(4)\n",
    "gauss_jacobi(A, b, x0)\n",
    "x, it = gauss_jacobi(A, b, x0)\n",
    "print('Number of iterations = {}'.format(it))\n",
    "print(x)"
   ]
  },
  {
   "cell_type": "markdown",
   "metadata": {},
   "source": [
    "#### (c) Gauss-Seidel "
   ]
  },
  {
   "cell_type": "code",
   "execution_count": 16,
   "metadata": {
    "collapsed": true
   },
   "outputs": [],
   "source": [
    "def gauss_seidel(A, b, x0):\n",
    "    \"\"\" \n",
    "    Implements the Gauss-Seidel method with a over-relaxation parameter\n",
    "    \"\"\"\n",
    "    eps = 1\n",
    "    tol = 1e-8\n",
    "    it = 0\n",
    "    maxit = 100\n",
    "\n",
    "    x = x0\n",
    "    Q = np.triu(A)\n",
    "    Q_inv = np.linalg.inv(Q)\n",
    "    \n",
    "    while eps > tol and it < maxit:\n",
    "        it += 1 \n",
    "        x_new = Q_inv @ b + ( np.eye(len(b)) - Q_inv @ A) @ x\n",
    "        eps = np.linalg.norm(x_new - x)\n",
    "        x = x_new\n",
    "        \n",
    "    return x, it  "
   ]
  },
  {
   "cell_type": "code",
   "execution_count": 17,
   "metadata": {
    "collapsed": false
   },
   "outputs": [
    {
     "name": "stdout",
     "output_type": "stream",
     "text": [
      "Number of iterations = 14\n",
      "[ 0.01893441  0.01680508  0.02335523 -0.00041085]\n",
      "1 loop, best of 1: 120 ms per loop\n"
     ]
    }
   ],
   "source": [
    "%%timeit -n1 -r1\n",
    "x0 = np.zeros(4)\n",
    "gauss_seidel(A, b, x0) \n",
    "x, it = gauss_seidel(A, b, x0)\n",
    "print('Number of iterations = {}'.format(it))\n",
    "print(x)"
   ]
  },
  {
   "cell_type": "markdown",
   "metadata": {},
   "source": [
    "## Question 4 (N)\n",
    "\n",
    "\n",
    "From Judd (1998), chapter 3. Suppose that demand for good $i$ is \n",
    "\n",
    "\\begin{equation}\n",
    "    d_i(p) = a_i \\sum_{j \\neq i} p_j - b_ip_i + c_i,\\ \\ i = 1, ..., n\n",
    "\\end{equation}\n",
    "\n",
    "where $a_i > b_i > 0$, and that supply is \n",
    "\n",
    "\\begin{equation}\n",
    "    s_i(p) = A_i + B_i p_i, \\ \\ i = 1, ..., n \n",
    "\\end{equation}\n",
    "\n",
    "where $B_i > 0$. Write a program to solve for equilibrium with sensible choices of $a_i$, $b_i$, $A_i$ and $B_i$. That means read in the parameters, check that they are consistent with commonsense economics (downward sloping demand curves, increasing supply curves and concave utility) and output the equilibrium prices and outputs. Your code should work for any number $n \\ge 1$."
   ]
  },
  {
   "cell_type": "code",
   "execution_count": 18,
   "metadata": {
    "collapsed": true
   },
   "outputs": [],
   "source": [
    "def find_eq(a,b,c,A,B):\n",
    "    \"\"\" \n",
    "    Takes in the parameters for a, b, c, A, B as flat numpy arrays. Solves for equilibrium\n",
    "    price and quantity vectors given sensible choices of a_i, b_i, A_i, B_i.\n",
    "    \n",
    "    Returns the price and quantity vectors as two flat numpy arrays.\n",
    "    \"\"\"\n",
    "    \n",
    "    # get length of the array\n",
    "    m, = b.shape\n",
    "    \n",
    "    # check that b > 0 and a > b\n",
    "    assert b.min() > 0,    'All values in b must be greater than 0'\n",
    "        \n",
    "    for i in range(m):    \n",
    "        if a[i] < b[i]:\n",
    "            print('At position {} the a !> b'.format(i))\n",
    "        else: continue\n",
    "            \n",
    "    # check that B > 0 \n",
    "    assert B.min() > 0,    'All values in B must be greater than 0'\n",
    "    \n",
    "    # create matrix M populated with values from (-b_i - B_i) and a\n",
    "    M = np.zeros((m,m))\n",
    "    for i in range(m):\n",
    "        for j in range(m):\n",
    "            if i == j:\n",
    "                M[i,j] = -b[i] - B[i]\n",
    "            else:\n",
    "                M[i,j] = a[i]\n",
    "          \n",
    "    # create array x with values A_i - c_i\n",
    "    x = A - c\n",
    " \n",
    "    # use gaussian to compute p vector\n",
    "    p0 = np.zeros(m)\n",
    "    p, it = gauss_jacobi(M, x, p0)\n",
    "    \n",
    "    # compute q vector with A + B*p\n",
    "    q = A + (B * p)\n",
    "    \n",
    "    return p, q"
   ]
  },
  {
   "cell_type": "code",
   "execution_count": 19,
   "metadata": {
    "collapsed": false
   },
   "outputs": [
    {
     "name": "stdout",
     "output_type": "stream",
     "text": [
      "p_eq =  [ 1.5942729   1.31686888  5.70078507  0.44982303  0.16658665]\n",
      "q_eq =  [ 2.97136451  3.90121328  0.70078507  9.59858428  8.16610657]\n"
     ]
    }
   ],
   "source": [
    "a = np.array([.3,.4,.4,1,.8])\n",
    "b = np.array([.2,.2,.3,.4,.5])\n",
    "c = np.array([1,1,1,1,1])\n",
    "A = np.array([-5,-4,-5,6,7])\n",
    "B = np.array([5,6,1,8,7])\n",
    "\n",
    "\n",
    "p_eq, q_eq = find_eq(a,b,c,A,B)\n",
    "print('p_eq = ', p_eq) \n",
    "print('q_eq = ', q_eq)"
   ]
  },
  {
   "cell_type": "markdown",
   "metadata": {},
   "source": [
    "## Question 5\n",
    "\n",
    "This question follows the example for the use of pivoting in Miranda and Fackler, section 2.3.\n",
    "\n",
    "(a) Start with matrix \n",
    "\n",
    "\\begin{equation}\n",
    "    A = \\left[\\begin{array}{cc}\n",
    "     -1\\text{e-20} & 1 \\\\\n",
    "     1 & 1\n",
    "     \\end{array}\n",
    "     \\right]\n",
    "\\end{equation}\n",
    " and vector \n",
    "\\begin{equation}\n",
    "    b = \\left[\\begin{array}{c}\n",
    "     2 \\\\\n",
    "     1 \n",
    "     \\end{array}\n",
    "     \\right]\n",
    "\\end{equation} \n",
    "\n",
    "Decompose $A$ analytically in matrices $L$ and $U$ using Gaussian elimination and confirm numerically that $A = L U$.\n",
    "\n",
    "(b) Solve the system $Ax = b$ analytically using forward and backward substitution on $L$ and $U$ found in (a), and show that\n",
    "\n",
    "\\begin{equation}\n",
    "    x_1 = \\frac{1\\text{e+20}}{1\\text{e+20} + 1} \\approx 1,\\quad x_2 = \\frac{1\\text{e+20} + 2}{1\\text{e+20} + 1} \\approx 1\n",
    "\\end{equation} \n",
    "\n",
    "(c) Solve $Ax = b$ numerically using forward and backward substitution and compare the results. \n",
    "\n",
    "(d) Perform *pivoting* on the system: move greater elements to the diagonal by interchanging rows. In the system above, that gives matrix $\\hat{A}$ and vector $\\hat{b}$:\n",
    "\n",
    "\\begin{equation}\n",
    "    \\hat{A} = \\left[\\begin{array}{cc}\n",
    "     1 & 1 \\\\\n",
    "     -1\\text{e-20} & 1\n",
    "     \\end{array}\n",
    "     \\right]\n",
    "\\end{equation}\n",
    " and vector \n",
    "\\begin{equation}\n",
    "    \\hat{b} = \\left[\\begin{array}{c}\n",
    "     1 \\\\\n",
    "     2 \n",
    "     \\end{array}\n",
    "     \\right]\n",
    "\\end{equation} \n",
    "\n",
    "Verify that the system $\\hat{A}x = \\hat{b}$ has the same solution as the original system.\n",
    "\n",
    "(e) As before, decompose $\\hat{A}$ analytically in matrices $\\hat{L}$ and $\\hat{U}$ using Gaussian elimination and confirm numerically that $\\hat{A} = \\hat{L} \\hat{U}$.\n",
    "\n",
    "(f) Solve $\\hat{A}x = \\hat{b}$ numerically and verify that the result is close to the analytical solution found in (b)."
   ]
  },
  {
   "cell_type": "markdown",
   "metadata": {},
   "source": [
    "You will need your implementation of backward substitution from question 2, as well as forward substitution as seen in the lecture:"
   ]
  },
  {
   "cell_type": "code",
   "execution_count": 20,
   "metadata": {
    "collapsed": true
   },
   "outputs": [],
   "source": [
    "def forward_sub(A, b):\n",
    "    \"\"\"\n",
    "    Implements the forward-substitution algorithm to solve a lower triangular system of equations\n",
    "    \"\"\"\n",
    "    n, m = A.shape\n",
    "    \n",
    "    assert n == m, \"A must be a square matrix\"\n",
    "    \n",
    "    x = np.zeros(n)\n",
    "    for i in range(n):\n",
    "        \n",
    "        summ = 0\n",
    "        for j in range(i):\n",
    "            summ += A[i, j] * x[j]\n",
    "        \n",
    "        x[i] = (b[i] - summ) / A[i, i]   \n",
    "    \n",
    "    return x"
   ]
  },
  {
   "cell_type": "markdown",
   "metadata": {},
   "source": [
    "#### Answer"
   ]
  },
  {
   "cell_type": "markdown",
   "metadata": {},
   "source": [
    "##### (a)"
   ]
  },
  {
   "cell_type": "code",
   "execution_count": 21,
   "metadata": {
    "collapsed": false
   },
   "outputs": [
    {
     "name": "stdout",
     "output_type": "stream",
     "text": [
      "[[ -1.00000000e-20   1.00000000e+00]\n",
      " [  1.00000000e+00   1.00000000e+00]]\n"
     ]
    }
   ],
   "source": [
    "M = 1e+20\n",
    "A = np.array([[-M**(-1), 1],\n",
    "            [1, 1]])\n",
    "b = np.array([1, 2])\n",
    "\n",
    "print(A)"
   ]
  },
  {
   "cell_type": "code",
   "execution_count": 22,
   "metadata": {
    "collapsed": false
   },
   "outputs": [
    {
     "name": "stdout",
     "output_type": "stream",
     "text": [
      "[[ -1.00000000e-20   1.00000000e+00]\n",
      " [  1.00000000e+00   0.00000000e+00]]\n"
     ]
    }
   ],
   "source": [
    "## results from analytical decomposition\n",
    "L = np.array([[1, 0],\n",
    "            [-M, 1]])\n",
    "U = np.array([[-M**(-1), 1],\n",
    "            [0, M + 1]])\n",
    "\n",
    "print( L @ U )"
   ]
  },
  {
   "cell_type": "markdown",
   "metadata": {},
   "source": [
    "##### (c)"
   ]
  },
  {
   "cell_type": "code",
   "execution_count": 23,
   "metadata": {
    "collapsed": false
   },
   "outputs": [
    {
     "name": "stdout",
     "output_type": "stream",
     "text": [
      "[-0.  1.]\n"
     ]
    }
   ],
   "source": [
    "## solve system numerically using backward and forward substitution\n",
    "print( backward_sub(U, forward_sub(L, b)) )"
   ]
  },
  {
   "cell_type": "markdown",
   "metadata": {},
   "source": [
    "##### (e) "
   ]
  },
  {
   "cell_type": "code",
   "execution_count": 27,
   "metadata": {
    "collapsed": false
   },
   "outputs": [
    {
     "name": "stdout",
     "output_type": "stream",
     "text": [
      "[[  1.00000000e+00   1.00000000e+00]\n",
      " [ -1.00000000e-20   1.00000000e+00]]\n"
     ]
    }
   ],
   "source": [
    "## system with pivoting\n",
    "A_hat = np.array([[1, 1],\n",
    "            [-M**(-1), 1]])\n",
    "b_hat = np.array([2, 1])\n",
    "\n",
    "print(A_hat)"
   ]
  },
  {
   "cell_type": "code",
   "execution_count": 28,
   "metadata": {
    "collapsed": false
   },
   "outputs": [
    {
     "name": "stdout",
     "output_type": "stream",
     "text": [
      "[[  1.00000000e+00   1.00000000e+00]\n",
      " [ -1.00000000e-20   1.00000000e+00]]\n"
     ]
    }
   ],
   "source": [
    "L_hat = np.array([[1, 0],\n",
    "            [-M**(-1), 1]])\n",
    "U_hat = np.array([[1, 1],\n",
    "            [0, M**(-1) + 1]])\n",
    "print( L_hat @ U_hat )"
   ]
  },
  {
   "cell_type": "markdown",
   "metadata": {},
   "source": [
    "##### (f)"
   ]
  },
  {
   "cell_type": "code",
   "execution_count": 29,
   "metadata": {
    "collapsed": false
   },
   "outputs": [
    {
     "data": {
      "text/plain": [
       "array([ 1.,  1.])"
      ]
     },
     "execution_count": 29,
     "metadata": {},
     "output_type": "execute_result"
    }
   ],
   "source": [
    "## solve system numerically using backward and forward substitution\n",
    "backward_sub(U_hat, forward_sub(L_hat, b_hat))"
   ]
  }
 ],
 "metadata": {
  "kernelspec": {
   "display_name": "Python 3",
   "language": "python",
   "name": "python3"
  },
  "language_info": {
   "codemirror_mode": {
    "name": "ipython",
    "version": 3
   },
   "file_extension": ".py",
   "mimetype": "text/x-python",
   "name": "python",
   "nbconvert_exporter": "python",
   "pygments_lexer": "ipython3",
   "version": "3.6.6"
  }
 },
 "nbformat": 4,
 "nbformat_minor": 1
}
