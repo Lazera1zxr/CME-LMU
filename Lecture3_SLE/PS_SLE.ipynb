{
 "cells": [
  {
   "cell_type": "markdown",
   "metadata": {},
   "source": [
    "# Computational Methods in Economics\n",
    "\n",
    "## Problem Set 3 - Solving Systems of Linear Equations"
   ]
  },
  {
   "cell_type": "code",
   "execution_count": 1,
   "metadata": {
    "collapsed": false
   },
   "outputs": [
    {
     "name": "stdout",
     "output_type": "stream",
     "text": [
      "Last update: 2018-11-15 09:00:13.585690\n"
     ]
    }
   ],
   "source": [
    "# Author: Alex Schmitt (schmitt@ifo.de)\n",
    "\n",
    "import datetime\n",
    "print('Last update: ' + str(datetime.datetime.today()))"
   ]
  },
  {
   "cell_type": "markdown",
   "metadata": {},
   "source": [
    "### Preliminaries\n",
    "\n",
    "#### Import Modules"
   ]
  },
  {
   "cell_type": "code",
   "execution_count": 2,
   "metadata": {
    "collapsed": true
   },
   "outputs": [],
   "source": [
    "import numpy as np\n",
    "import scipy.linalg\n",
    "\n",
    "import matplotlib.pyplot as plt\n",
    "%matplotlib inline\n",
    "import seaborn\n",
    "\n",
    "# import sys\n",
    "from importlib import reload"
   ]
  },
  {
   "cell_type": "markdown",
   "metadata": {},
   "source": [
    "## Question 1 (A)\n",
    "\n",
    "(a) Find the largest positive integer $n$ such that $2^n - 1$ is a DP number.\n",
    "\n",
    "(b) Show that the distance between two adjacent DP numbers $y_1$ and $y_2$ with $y_1 < y_2$ that, \n",
    "\n",
    "\\begin{equation}\n",
    "   | y_2 - y_1 | = \\epsilon_{DP} 2^{e(y_1) - 1023}. \n",
    "\\end{equation}\n",
    "\n",
    "Hint: Consider two cases for $e$ and $f$ that make two DP numbers adjacent.\n",
    "\n",
    "(c) Show that the relativ absolute difference between a real number $z$ and the DP number closest to it, $z_{DP}$, is bounded above by half machine epsilon, i.e.\n",
    "\n",
    "\\begin{equation}\n",
    "   \\left| \\frac{z_{DP} - z}{z} \\right| \\le \\frac{1}{2} \\epsilon_{DP}.\n",
    "\\end{equation}\n",
    "\n",
    "Hint: Use the result from (b)."
   ]
  },
  {
   "cell_type": "markdown",
   "metadata": {},
   "source": [
    "## Question 2 (N)\n",
    "\n",
    "Write a function **backward_sub** that implements the backward-substitution algorithm to solve an upper triangular system of equations in Python. As a first step, derive an expression for $x_i$, analogous to the case of forward-substitution in the lecture."
   ]
  },
  {
   "cell_type": "code",
   "execution_count": null,
   "metadata": {
    "collapsed": true
   },
   "outputs": [],
   "source": []
  },
  {
   "cell_type": "markdown",
   "metadata": {},
   "source": [
    "## Question 3 (N)\n",
    "\n",
    "Solve Exercise 2.2 in Miranda and Fackler. That is, find the solution to a SLE with"
   ]
  },
  {
   "cell_type": "code",
   "execution_count": 3,
   "metadata": {
    "collapsed": true
   },
   "outputs": [],
   "source": [
    "A = np.array([[54, 14, -11, 2], \n",
    "              [14, 50, -4, 29],\n",
    "              [-11, -4, 55, 22],\n",
    "              [2, 29, 22, 95]]\n",
    "            )\n",
    "b = np.array([1, 1, 1, 1])"
   ]
  },
  {
   "cell_type": "markdown",
   "metadata": {},
   "source": [
    "numerically, using\n",
    "a) LU factorization,\n",
    "b) Gauss-Jacobi,\n",
    "c) Gauss-Seidel.\n",
    "\n",
    "For LU factorization, do not use the **linalg.solve** functions in Numpy or Scipy. However, you can use Scipy's **linalg.lu** function."
   ]
  },
  {
   "cell_type": "code",
   "execution_count": null,
   "metadata": {
    "collapsed": true
   },
   "outputs": [],
   "source": []
  },
  {
   "cell_type": "markdown",
   "metadata": {},
   "source": [
    "## Question 4 (N)\n",
    "\n",
    "\n",
    "From Judd (1998), chapter 3. Suppose that demand for good $i$ is \n",
    "\n",
    "\\begin{equation}\n",
    "    d_i(p) = a_i \\sum_{j \\neq i} p_j - b_ip_i + c_i,\\ \\ i = 1, ..., n\n",
    "\\end{equation}\n",
    "\n",
    "where $a_i > b_i > 0$, and that supply is \n",
    "\n",
    "\\begin{equation}\n",
    "    s_i(p) = A_i + B_i p_i, \\ \\ i = 1, ..., n \n",
    "\\end{equation}\n",
    "\n",
    "where $B_i > 0$. Write a program to solve for equilibrium with sensible choices of $a_i$, $b_i$, $A_i$ and $B_i$. That means read in the parameters, check that they are consistent with commonsense economics (downward sloping demand curves, increasing supply curves and concave utility) and output the equilibrium prices and outputs. Your code should work for any number $n \\ge 1$."
   ]
  },
  {
   "cell_type": "code",
   "execution_count": null,
   "metadata": {
    "collapsed": true
   },
   "outputs": [],
   "source": []
  },
  {
   "cell_type": "markdown",
   "metadata": {},
   "source": [
    "## Question 5 (A / N)\n",
    "\n",
    "This question follows the example for the use of pivoting in Miranda and Fackler, section 2.3.\n",
    "\n",
    "(a) Start with matrix \n",
    "\n",
    "\\begin{equation}\n",
    "    A = \\left[\\begin{array}{cc}\n",
    "     -1\\text{e-20} & 1 \\\\\n",
    "     1 & 1\n",
    "     \\end{array}\n",
    "     \\right]\n",
    "\\end{equation}\n",
    " and vector \n",
    "\\begin{equation}\n",
    "    b = \\left[\\begin{array}{c}\n",
    "     1 \\\\\n",
    "     2 \n",
    "     \\end{array}\n",
    "     \\right]\n",
    "\\end{equation} \n",
    "\n",
    "Decompose $A$ analytically in matrices $L$ and $U$ using Gaussian elimination and confirm numerically that $A = L U$.\n",
    "\n",
    "(b) Solve the system $Ax = b$ analytically using forward and backward substitution on $L$ and $U$ found in (a), and show that\n",
    "\n",
    "\\begin{equation}\n",
    "    x_1 = \\frac{1\\text{e+20}}{1\\text{e+20} + 1} \\approx 1,\\quad x_2 = \\frac{1\\text{e+20} + 2}{1\\text{e+20} + 1} \\approx 1\n",
    "\\end{equation} \n",
    "\n",
    "(c) Solve $Ax = b$ numerically using forward and backward substitution and compare the results. \n",
    "\n",
    "(d) Perform *pivoting* on the system: move greater elements to the diagonal by interchanging rows. In the system above, that gives matrix $\\hat{A}$ and vector $\\hat{b}$:\n",
    "\n",
    "\\begin{equation}\n",
    "    \\hat{A} = \\left[\\begin{array}{cc}\n",
    "     1 & 1 \\\\\n",
    "     -1\\text{e-20} & 1\n",
    "     \\end{array}\n",
    "     \\right]\n",
    "\\end{equation}\n",
    " and vector \n",
    "\\begin{equation}\n",
    "    \\hat{b} = \\left[\\begin{array}{c}\n",
    "     2 \\\\\n",
    "     1 \n",
    "     \\end{array}\n",
    "     \\right]\n",
    "\\end{equation} \n",
    "\n",
    "Verify that the system $\\hat{A}x = \\hat{b}$ has the same solution as the original system.\n",
    "\n",
    "(e) As before, decompose $\\hat{A}$ analytically in matrices $\\hat{L}$ and $\\hat{U}$ using Gaussian elimination and confirm numerically that $\\hat{A} = \\hat{L} \\hat{U}$.\n",
    "\n",
    "(f) Solve $\\hat{A}x = \\hat{b}$ numerically and verify that the result is close to the analytical solution found in (b)."
   ]
  },
  {
   "cell_type": "markdown",
   "metadata": {},
   "source": [
    "You will need your implementation of backward substitution from question 2, as well as forward substitution as seen in the lecture:"
   ]
  },
  {
   "cell_type": "code",
   "execution_count": 4,
   "metadata": {
    "collapsed": true
   },
   "outputs": [],
   "source": [
    "def forward_sub(A, b):\n",
    "    \"\"\"\n",
    "    Implements the forward-substitution algorithm to solve a lower triangular system of equations\n",
    "    \"\"\"\n",
    "    n, m = A.shape\n",
    "    \n",
    "    assert n == m, \"A must be a square matrix\"\n",
    "    \n",
    "    x = np.zeros(n)\n",
    "    for i in range(n):\n",
    "        \n",
    "        summ = 0\n",
    "        for j in range(i):\n",
    "            summ += A[i, j] * x[j]\n",
    "        \n",
    "        x[i] = (b[i] - summ) / A[i, i]   \n",
    "    \n",
    "    return x"
   ]
  },
  {
   "cell_type": "code",
   "execution_count": null,
   "metadata": {
    "collapsed": true
   },
   "outputs": [],
   "source": []
  }
 ],
 "metadata": {
  "kernelspec": {
   "display_name": "Python 3",
   "language": "python",
   "name": "python3"
  },
  "language_info": {
   "codemirror_mode": {
    "name": "ipython",
    "version": 3
   },
   "file_extension": ".py",
   "mimetype": "text/x-python",
   "name": "python",
   "nbconvert_exporter": "python",
   "pygments_lexer": "ipython3",
   "version": "3.6.6"
  }
 },
 "nbformat": 4,
 "nbformat_minor": 1
}
