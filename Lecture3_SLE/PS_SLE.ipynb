{
 "cells": [
  {
   "cell_type": "markdown",
   "metadata": {},
   "source": [
    "# Computational Methods in Economics\n",
    "\n",
    "## Problem Set 1 - Solving Systems of Linear Equations"
   ]
  },
  {
   "cell_type": "code",
   "execution_count": 1,
   "metadata": {
    "collapsed": false
   },
   "outputs": [
    {
     "name": "stdout",
     "output_type": "stream",
     "text": [
      "Last update: 2018-11-12 14:11:19.210953\n"
     ]
    }
   ],
   "source": [
    "# Author: Alex Schmitt (schmitt@ifo.de)\n",
    "\n",
    "import datetime\n",
    "print('Last update: ' + str(datetime.datetime.today()))"
   ]
  },
  {
   "cell_type": "markdown",
   "metadata": {},
   "source": [
    "### Preliminaries\n",
    "\n",
    "#### Import Modules"
   ]
  },
  {
   "cell_type": "code",
   "execution_count": 2,
   "metadata": {
    "collapsed": true
   },
   "outputs": [],
   "source": [
    "import numpy as np\n",
    "import scipy.linalg\n",
    "\n",
    "import matplotlib.pyplot as plt\n",
    "%matplotlib inline\n",
    "import seaborn\n",
    "\n",
    "# import sys\n",
    "from importlib import reload"
   ]
  },
  {
   "cell_type": "markdown",
   "metadata": {},
   "source": [
    "## Question 1 (A)\n",
    "\n",
    "(a) Find the largest positive integer $n$ such that $2^n - 1$ is a DP number.\n",
    "\n",
    "(b) Show that the distance between two adjacent DP numbers $y_1$ and $y_2$ with $y_1 < y_2$ that, \n",
    "\n",
    "\\begin{equation}\n",
    "   | y_2 - y_1 | = \\epsilon_{DP} 2^{e(y_1) - 1023}. \n",
    "\\end{equation}\n",
    "\n",
    "Hint: Consider two cases for $e$ and $f$ that make two DP numbers adjacent.\n",
    "\n",
    "(c) Show that the relativ absolute difference between a real number $z$ and the DP number closest to it, $z_{DP}$, is bounded above by half machine epsilon, i.e.\n",
    "\n",
    "\\begin{equation}\n",
    "   \\left| \\frac{z_{DP} - z}{z} \\right| \\le \\frac{1}{2} \\epsilon_{DP}.\n",
    "\\end{equation}\n",
    "\n",
    "Hint: Use the result from (b)."
   ]
  },
  {
   "cell_type": "markdown",
   "metadata": {},
   "source": [
    "## Question 2 (N)\n",
    "\n",
    "Write a function **backward_sub** that implements the backward-substitution algorithm to solve an upper triangular system of equations in Python. As a first step, derive an expression for $x_i$, analogous to the case of forward-substitution in the lecture."
   ]
  },
  {
   "cell_type": "code",
   "execution_count": null,
   "metadata": {
    "collapsed": true
   },
   "outputs": [],
   "source": []
  },
  {
   "cell_type": "markdown",
   "metadata": {},
   "source": [
    "## Question 3 (N)\n",
    "\n",
    "Solve Exercise 2.2 in Miranda and Fackler. That is, find the solution to a SLE with"
   ]
  },
  {
   "cell_type": "code",
   "execution_count": 3,
   "metadata": {
    "collapsed": true
   },
   "outputs": [],
   "source": [
    "A = np.array([[54, 14, -11, 2], \n",
    "              [14, 50, -4, 29],\n",
    "              [-11, -4, 55, 22],\n",
    "              [2, 29, 22, 95]]\n",
    "            )\n",
    "b = np.array([1, 1, 1, 1])"
   ]
  },
  {
   "cell_type": "markdown",
   "metadata": {},
   "source": [
    "numerically, using\n",
    "a) LU factorization,\n",
    "b) Gauss-Jacobi,\n",
    "c) Gauss-Seidel.\n",
    "\n",
    "For LU factorization, do not use the **linalg.solve** functions in Numpy or Scipy. However, you can use Scipy's **linalg.lu** function."
   ]
  },
  {
   "cell_type": "code",
   "execution_count": null,
   "metadata": {
    "collapsed": true
   },
   "outputs": [],
   "source": []
  },
  {
   "cell_type": "markdown",
   "metadata": {},
   "source": [
    "## Question 4 (N)\n",
    "\n",
    "\n",
    "From Judd (1998), chapter 3. Suppose that demand for good $i$ is \n",
    "\n",
    "\\begin{equation}\n",
    "    d_i(p) = a_i \\sum_{j \\neq i} p_j - b_ip_i + c_i,\\ \\ i = 1, ..., n\n",
    "\\end{equation}\n",
    "\n",
    "where $a_i > b_i > 0$, and that supply is \n",
    "\n",
    "\\begin{equation}\n",
    "    s_i(p) = A_i + B_i p_i, \\ \\ i = 1, ..., n \n",
    "\\end{equation}\n",
    "\n",
    "where $B_i > 0$. Write a program to solve for equilibrium with sensible choices of $a_i$, $b_i$, $A_i$ and $B_i$. That means read in the parameters, check that they are consistent with commonsense economics (downward sloping demand curves, increasing supply curves and concave utility) and output the equilibrium prices and outputs. Your code should work for any number $n \\ge 1$."
   ]
  },
  {
   "cell_type": "code",
   "execution_count": null,
   "metadata": {
    "collapsed": true
   },
   "outputs": [],
   "source": []
  }
 ],
 "metadata": {
  "kernelspec": {
   "display_name": "Python 3",
   "language": "python",
   "name": "python3"
  },
  "language_info": {
   "codemirror_mode": {
    "name": "ipython",
    "version": 3
   },
   "file_extension": ".py",
   "mimetype": "text/x-python",
   "name": "python",
   "nbconvert_exporter": "python",
   "pygments_lexer": "ipython3",
   "version": "3.6.6"
  }
 },
 "nbformat": 4,
 "nbformat_minor": 0
}
